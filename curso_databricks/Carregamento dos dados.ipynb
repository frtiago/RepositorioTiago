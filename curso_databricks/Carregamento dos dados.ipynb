{
 "cells": [
  {
   "cell_type": "code",
   "execution_count": 0,
   "metadata": {
    "application/vnd.databricks.v1+cell": {
     "cellMetadata": {
      "byteLimit": 2048000,
      "rowLimit": 10000
     },
     "inputWidgets": {},
     "nuid": "b0528739-f72d-4f28-a96b-e725109096e4",
     "showTitle": false,
     "title": ""
    }
   },
   "outputs": [],
   "source": [
    "##Notebook para carregar os dados"
   ]
  },
  {
   "cell_type": "code",
   "execution_count": 0,
   "metadata": {
    "application/vnd.databricks.v1+cell": {
     "cellMetadata": {
      "byteLimit": 2048000,
      "rowLimit": 10000
     },
     "inputWidgets": {},
     "nuid": "089739f1-22dc-458f-84ed-037803d9ea34",
     "showTitle": false,
     "title": ""
    }
   },
   "outputs": [],
   "source": [
    "##importacoes\n",
    "import pyspark\n",
    "\n",
    "from pyspark.sql.types import *\n",
    "from pyspark import SparkContext\n",
    "from pyspark.sql.functions import col"
   ]
  },
  {
   "cell_type": "code",
   "execution_count": 0,
   "metadata": {
    "application/vnd.databricks.v1+cell": {
     "cellMetadata": {
      "byteLimit": 2048000,
      "rowLimit": 10000
     },
     "inputWidgets": {},
     "nuid": "5b89e46f-2fa7-4079-a139-3ae5b07e4e10",
     "showTitle": false,
     "title": ""
    }
   },
   "outputs": [],
   "source": [
    "caminho_clientes_cartao = (\"/FileStore/tables/clientes_cartao.csv\")"
   ]
  },
  {
   "cell_type": "code",
   "execution_count": 0,
   "metadata": {
    "application/vnd.databricks.v1+cell": {
     "cellMetadata": {
      "byteLimit": 2048000,
      "rowLimit": 10000
     },
     "inputWidgets": {},
     "nuid": "c957ea5d-4a0e-4096-90f0-1745d8f35b00",
     "showTitle": true,
     "title": "Importando usando spark.read.csv"
    }
   },
   "outputs": [],
   "source": [
    "#aplicando o header e o delimiter, para delimitar e trazer o cabecalho das colunas. \n",
    "df1 = (spark.read\n",
    "       .option(\"header\",True)\n",
    "       .option(\"delimiter\", \";\")\n",
    "       .csv(caminho_clientes_cartao)\n",
    ")"
   ]
  },
  {
   "cell_type": "code",
   "execution_count": 0,
   "metadata": {
    "application/vnd.databricks.v1+cell": {
     "cellMetadata": {
      "byteLimit": 2048000,
      "rowLimit": 10000
     },
     "inputWidgets": {},
     "nuid": "4619a8bd-5eb5-4d06-b8e9-e1555260ad82",
     "showTitle": false,
     "title": ""
    }
   },
   "outputs": [],
   "source": [
    "df1.show()"
   ]
  },
  {
   "cell_type": "code",
   "execution_count": 0,
   "metadata": {
    "application/vnd.databricks.v1+cell": {
     "cellMetadata": {
      "byteLimit": 2048000,
      "rowLimit": 10000
     },
     "inputWidgets": {},
     "nuid": "ae32f3d9-cfb9-4657-90c5-9d33f64e5e89",
     "showTitle": true,
     "title": "Verificando e aplicando um schema"
    }
   },
   "outputs": [],
   "source": [
    "schema = StructType([\n",
    "    StructField(\"id_cliente\", IntegerType(), False),\n",
    "    StructField(\"flag_atrito\", StringType(), False),\n",
    "    StructField(\"idade_cliente\", StringType(), False),\n",
    "    StructField(\"genero\", StringType(), False)\n",
    "])\n",
    "\n",
    "df_cartoes_schema = (spark.read\n",
    "       .option(\"header\", True)\n",
    "       .option(\"delimiter\", \";\")\n",
    "       .schema(schema)\n",
    "       .csv(caminho_clientes_cartao)\n",
    ")"
   ]
  },
  {
   "cell_type": "code",
   "execution_count": 0,
   "metadata": {
    "application/vnd.databricks.v1+cell": {
     "cellMetadata": {
      "byteLimit": 2048000,
      "rowLimit": 10000
     },
     "inputWidgets": {},
     "nuid": "f66fcafa-8b7a-4b50-b0a6-8a0042bcda34",
     "showTitle": false,
     "title": ""
    }
   },
   "outputs": [],
   "source": [
    "df_cartoes_schema.show()"
   ]
  },
  {
   "cell_type": "code",
   "execution_count": 0,
   "metadata": {
    "application/vnd.databricks.v1+cell": {
     "cellMetadata": {
      "byteLimit": 2048000,
      "rowLimit": 10000
     },
     "inputWidgets": {},
     "nuid": "b4610e7b-de5a-46f0-9e96-d453ab0ca378",
     "showTitle": false,
     "title": ""
    }
   },
   "outputs": [],
   "source": [
    "df_cartoes_schema.filter(col(\"idade_cliente\") == 56).show()"
   ]
  },
  {
   "cell_type": "code",
   "execution_count": 0,
   "metadata": {
    "application/vnd.databricks.v1+cell": {
     "cellMetadata": {
      "byteLimit": 2048000,
      "rowLimit": 10000
     },
     "inputWidgets": {},
     "nuid": "1629127e-e097-4231-81d2-aac3cb838208",
     "showTitle": true,
     "title": "Gravando arquivo em parquet"
    }
   },
   "outputs": [],
   "source": [
    "df_cartoes_parquet = df_cartoes_schema.write.parquet(\"FileStore/tables/parquet/informacoes_cartoes.parquet\")"
   ]
  },
  {
   "cell_type": "code",
   "execution_count": 0,
   "metadata": {
    "application/vnd.databricks.v1+cell": {
     "cellMetadata": {
      "byteLimit": 2048000,
      "rowLimit": 10000
     },
     "inputWidgets": {},
     "nuid": "d5d693ed-18dd-497d-a293-d66aca7c80c5",
     "showTitle": false,
     "title": ""
    }
   },
   "outputs": [],
   "source": [
    "%fs ls \"FileStore/tables/parquet/\""
   ]
  },
  {
   "cell_type": "code",
   "execution_count": 0,
   "metadata": {
    "application/vnd.databricks.v1+cell": {
     "cellMetadata": {},
     "inputWidgets": {},
     "nuid": "d09b8a6c-415c-40bb-bcbd-2b4d5908029b",
     "showTitle": false,
     "title": ""
    }
   },
   "outputs": [],
   "source": []
  }
 ],
 "metadata": {
  "application/vnd.databricks.v1+notebook": {
   "dashboards": [],
   "language": "python",
   "notebookMetadata": {
    "mostRecentlyExecutedCommandWithImplicitDF": {
     "commandId": 3739913419831918,
     "dataframes": [
      "_sqldf"
     ]
    },
    "pythonIndentUnit": 4
   },
   "notebookName": "Carregamento dos dados",
   "widgets": {}
  }
 },
 "nbformat": 4,
 "nbformat_minor": 0
}
